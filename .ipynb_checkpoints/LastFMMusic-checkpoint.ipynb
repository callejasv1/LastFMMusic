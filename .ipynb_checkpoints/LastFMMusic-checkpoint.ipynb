{
 "cells": [
  {
   "cell_type": "code",
   "execution_count": 3,
   "metadata": {},
   "outputs": [],
   "source": [
    "import pandas as pd\n",
    "import numpy as np\n",
    "import musicbrainzngs as mb"
   ]
  },
  {
   "cell_type": "code",
   "execution_count": 80,
   "metadata": {},
   "outputs": [],
   "source": [
    "mb.set_useragent(\"MyLifeWithMusic\",\"0.1\",\"eduardo.callejas@usach.cl\")"
   ]
  },
  {
   "cell_type": "code",
   "execution_count": 131,
   "metadata": {},
   "outputs": [],
   "source": [
    "df = pd.read_csv('Data/plaxibo.csv',header=None)"
   ]
  },
  {
   "cell_type": "code",
   "execution_count": 132,
   "metadata": {},
   "outputs": [
    {
     "data": {
      "text/html": [
       "<div>\n",
       "<style scoped>\n",
       "    .dataframe tbody tr th:only-of-type {\n",
       "        vertical-align: middle;\n",
       "    }\n",
       "\n",
       "    .dataframe tbody tr th {\n",
       "        vertical-align: top;\n",
       "    }\n",
       "\n",
       "    .dataframe thead th {\n",
       "        text-align: right;\n",
       "    }\n",
       "</style>\n",
       "<table border=\"1\" class=\"dataframe\">\n",
       "  <thead>\n",
       "    <tr style=\"text-align: right;\">\n",
       "      <th></th>\n",
       "      <th>0</th>\n",
       "      <th>1</th>\n",
       "      <th>2</th>\n",
       "      <th>3</th>\n",
       "    </tr>\n",
       "  </thead>\n",
       "  <tbody>\n",
       "    <tr>\n",
       "      <th>0</th>\n",
       "      <td>Michael Jackson</td>\n",
       "      <td>HIStory: Past Present and Future Book I</td>\n",
       "      <td>History</td>\n",
       "      <td>19 Oct 2018 23:11</td>\n",
       "    </tr>\n",
       "    <tr>\n",
       "      <th>1</th>\n",
       "      <td>Michael Jackson</td>\n",
       "      <td>HIStory: Past Present and Future Book I</td>\n",
       "      <td>2 Bad</td>\n",
       "      <td>19 Oct 2018 23:06</td>\n",
       "    </tr>\n",
       "    <tr>\n",
       "      <th>2</th>\n",
       "      <td>Michael Jackson</td>\n",
       "      <td>HIStory: Past Present and Future Book I</td>\n",
       "      <td>Tabloid Junkie</td>\n",
       "      <td>19 Oct 2018 22:53</td>\n",
       "    </tr>\n",
       "    <tr>\n",
       "      <th>3</th>\n",
       "      <td>Michael Jackson</td>\n",
       "      <td>HIStory: Past Present and Future Book I</td>\n",
       "      <td>Childhood (theme from Free Willy 2)</td>\n",
       "      <td>19 Oct 2018 22:48</td>\n",
       "    </tr>\n",
       "    <tr>\n",
       "      <th>4</th>\n",
       "      <td>Michael Jackson</td>\n",
       "      <td>HIStory: Past Present and Future Book I</td>\n",
       "      <td>You Are Not Alone</td>\n",
       "      <td>19 Oct 2018 22:41</td>\n",
       "    </tr>\n",
       "  </tbody>\n",
       "</table>\n",
       "</div>"
      ],
      "text/plain": [
       "                 0                                        1  \\\n",
       "0  Michael Jackson  HIStory: Past Present and Future Book I   \n",
       "1  Michael Jackson  HIStory: Past Present and Future Book I   \n",
       "2  Michael Jackson  HIStory: Past Present and Future Book I   \n",
       "3  Michael Jackson  HIStory: Past Present and Future Book I   \n",
       "4  Michael Jackson  HIStory: Past Present and Future Book I   \n",
       "\n",
       "                                     2                  3  \n",
       "0                              History  19 Oct 2018 23:11  \n",
       "1                                2 Bad  19 Oct 2018 23:06  \n",
       "2                       Tabloid Junkie  19 Oct 2018 22:53  \n",
       "3  Childhood (theme from Free Willy 2)  19 Oct 2018 22:48  \n",
       "4                    You Are Not Alone  19 Oct 2018 22:41  "
      ]
     },
     "execution_count": 132,
     "metadata": {},
     "output_type": "execute_result"
    }
   ],
   "source": [
    "df.head()"
   ]
  },
  {
   "cell_type": "code",
   "execution_count": 136,
   "metadata": {},
   "outputs": [
    {
     "data": {
      "text/plain": [
       "0              Michael Jackson\n",
       "1           The Isley Brothers\n",
       "2    Eydie Gorme & Los Panchos\n",
       "3                  Roy Orbison\n",
       "4                 Héctor Lavoe\n",
       "Name: 0, dtype: object"
      ]
     },
     "execution_count": 136,
     "metadata": {},
     "output_type": "execute_result"
    }
   ],
   "source": [
    "artists= df[0].drop_duplicates().reset_index()\n",
    "artists=artists[0]\n",
    "artists.head()"
   ]
  },
  {
   "cell_type": "code",
   "execution_count": 112,
   "metadata": {},
   "outputs": [
    {
     "data": {
      "text/html": [
       "<div>\n",
       "<style scoped>\n",
       "    .dataframe tbody tr th:only-of-type {\n",
       "        vertical-align: middle;\n",
       "    }\n",
       "\n",
       "    .dataframe tbody tr th {\n",
       "        vertical-align: top;\n",
       "    }\n",
       "\n",
       "    .dataframe thead th {\n",
       "        text-align: right;\n",
       "    }\n",
       "</style>\n",
       "<table border=\"1\" class=\"dataframe\">\n",
       "  <thead>\n",
       "    <tr style=\"text-align: right;\">\n",
       "      <th></th>\n",
       "      <th>Tag</th>\n",
       "      <th>Pais</th>\n",
       "      <th>Genero</th>\n",
       "      <th>Artista</th>\n",
       "    </tr>\n",
       "  </thead>\n",
       "  <tbody>\n",
       "  </tbody>\n",
       "</table>\n",
       "</div>"
      ],
      "text/plain": [
       "Empty DataFrame\n",
       "Columns: [Tag, Pais, Genero, Artista]\n",
       "Index: []"
      ]
     },
     "execution_count": 112,
     "metadata": {},
     "output_type": "execute_result"
    }
   ],
   "source": []
  },
  {
   "cell_type": "code",
   "execution_count": 166,
   "metadata": {},
   "outputs": [],
   "source": [
    "def getinfo(artist):\n",
    "    try:\n",
    "        dict = mb.search_artists(artist,limit=1)\n",
    "        dict2 = dict['artist-list'][0]\n",
    "        try:\n",
    "            country = dict2['country']\n",
    "        except:\n",
    "            country = np.nan\n",
    "\n",
    "        try:\n",
    "            gender = dict2['gender']\n",
    "        except:\n",
    "            gender = np.nan\n",
    "\n",
    "        try:\n",
    "            tag = df.from_dict(dict2['tag-list'])\n",
    "            tag['count']= tag['count'].astype(int)\n",
    "            genre=tag.loc[tag['count'].idxmax()]['name']\n",
    "        except:\n",
    "            genre = np.nan\n",
    "    except:\n",
    "        country= np.nan\n",
    "        gender=np.nan\n",
    "        genre = np.nan\n",
    "    #print(artist,country, gender, genre)\n",
    "    return [artist, country, gender, genre]"
   ]
  },
  {
   "cell_type": "code",
   "execution_count": 169,
   "metadata": {},
   "outputs": [],
   "source": [
    "appended_data = []\n",
    "\n",
    "for i in artists.head(10):\n",
    "    \n",
    "    database = pd.DataFrame(getinfo(i)).T\n",
    "    appended_data.append(database)\n",
    "\n",
    "appended_data = pd.concat(appended_data, axis=0)   \n",
    "appended_data.to_csv('Data/artistas.csv')"
   ]
  },
  {
   "cell_type": "code",
   "execution_count": 170,
   "metadata": {},
   "outputs": [
    {
     "data": {
      "text/html": [
       "<div>\n",
       "<style scoped>\n",
       "    .dataframe tbody tr th:only-of-type {\n",
       "        vertical-align: middle;\n",
       "    }\n",
       "\n",
       "    .dataframe tbody tr th {\n",
       "        vertical-align: top;\n",
       "    }\n",
       "\n",
       "    .dataframe thead th {\n",
       "        text-align: right;\n",
       "    }\n",
       "</style>\n",
       "<table border=\"1\" class=\"dataframe\">\n",
       "  <thead>\n",
       "    <tr style=\"text-align: right;\">\n",
       "      <th></th>\n",
       "      <th>0</th>\n",
       "      <th>1</th>\n",
       "      <th>2</th>\n",
       "      <th>3</th>\n",
       "    </tr>\n",
       "  </thead>\n",
       "  <tbody>\n",
       "    <tr>\n",
       "      <th>0</th>\n",
       "      <td>Michael Jackson</td>\n",
       "      <td>US</td>\n",
       "      <td>male</td>\n",
       "      <td>pop</td>\n",
       "    </tr>\n",
       "    <tr>\n",
       "      <th>0</th>\n",
       "      <td>The Isley Brothers</td>\n",
       "      <td>US</td>\n",
       "      <td>NaN</td>\n",
       "      <td>funk</td>\n",
       "    </tr>\n",
       "    <tr>\n",
       "      <th>0</th>\n",
       "      <td>Eydie Gorme &amp; Los Panchos</td>\n",
       "      <td>US</td>\n",
       "      <td>female</td>\n",
       "      <td>pop</td>\n",
       "    </tr>\n",
       "    <tr>\n",
       "      <th>0</th>\n",
       "      <td>Roy Orbison</td>\n",
       "      <td>US</td>\n",
       "      <td>male</td>\n",
       "      <td>pop</td>\n",
       "    </tr>\n",
       "    <tr>\n",
       "      <th>0</th>\n",
       "      <td>Héctor Lavoe</td>\n",
       "      <td>PR</td>\n",
       "      <td>male</td>\n",
       "      <td>NaN</td>\n",
       "    </tr>\n",
       "    <tr>\n",
       "      <th>0</th>\n",
       "      <td>DJ Afro</td>\n",
       "      <td>NaN</td>\n",
       "      <td>male</td>\n",
       "      <td>NaN</td>\n",
       "    </tr>\n",
       "    <tr>\n",
       "      <th>0</th>\n",
       "      <td>Tito Puente</td>\n",
       "      <td>US</td>\n",
       "      <td>male</td>\n",
       "      <td>jazz</td>\n",
       "    </tr>\n",
       "    <tr>\n",
       "      <th>0</th>\n",
       "      <td>Johnny Albino Y Su Trío San Juan</td>\n",
       "      <td>AR</td>\n",
       "      <td>male</td>\n",
       "      <td>tango</td>\n",
       "    </tr>\n",
       "    <tr>\n",
       "      <th>0</th>\n",
       "      <td>Luis Segura</td>\n",
       "      <td>NaN</td>\n",
       "      <td>NaN</td>\n",
       "      <td>NaN</td>\n",
       "    </tr>\n",
       "    <tr>\n",
       "      <th>0</th>\n",
       "      <td>Johnny Albino</td>\n",
       "      <td>NaN</td>\n",
       "      <td>male</td>\n",
       "      <td>NaN</td>\n",
       "    </tr>\n",
       "  </tbody>\n",
       "</table>\n",
       "</div>"
      ],
      "text/plain": [
       "                                  0    1       2      3\n",
       "0                   Michael Jackson   US    male    pop\n",
       "0                The Isley Brothers   US     NaN   funk\n",
       "0         Eydie Gorme & Los Panchos   US  female    pop\n",
       "0                       Roy Orbison   US    male    pop\n",
       "0                      Héctor Lavoe   PR    male    NaN\n",
       "0                           DJ Afro  NaN    male    NaN\n",
       "0                       Tito Puente   US    male   jazz\n",
       "0  Johnny Albino Y Su Trío San Juan   AR    male  tango\n",
       "0                       Luis Segura  NaN     NaN    NaN\n",
       "0                     Johnny Albino  NaN    male    NaN"
      ]
     },
     "execution_count": 170,
     "metadata": {},
     "output_type": "execute_result"
    }
   ],
   "source": [
    "appended_data"
   ]
  },
  {
   "cell_type": "code",
   "execution_count": 171,
   "metadata": {},
   "outputs": [
    {
     "data": {
      "text/html": [
       "<div>\n",
       "<style scoped>\n",
       "    .dataframe tbody tr th:only-of-type {\n",
       "        vertical-align: middle;\n",
       "    }\n",
       "\n",
       "    .dataframe tbody tr th {\n",
       "        vertical-align: top;\n",
       "    }\n",
       "\n",
       "    .dataframe thead th {\n",
       "        text-align: right;\n",
       "    }\n",
       "</style>\n",
       "<table border=\"1\" class=\"dataframe\">\n",
       "  <thead>\n",
       "    <tr style=\"text-align: right;\">\n",
       "      <th></th>\n",
       "      <th>Unnamed: 0</th>\n",
       "      <th>0</th>\n",
       "      <th>1</th>\n",
       "      <th>2</th>\n",
       "      <th>3</th>\n",
       "    </tr>\n",
       "  </thead>\n",
       "  <tbody>\n",
       "    <tr>\n",
       "      <th>0</th>\n",
       "      <td>0</td>\n",
       "      <td>Michael Jackson</td>\n",
       "      <td>US</td>\n",
       "      <td>male</td>\n",
       "      <td>pop</td>\n",
       "    </tr>\n",
       "    <tr>\n",
       "      <th>1</th>\n",
       "      <td>0</td>\n",
       "      <td>The Isley Brothers</td>\n",
       "      <td>US</td>\n",
       "      <td>NaN</td>\n",
       "      <td>funk</td>\n",
       "    </tr>\n",
       "    <tr>\n",
       "      <th>2</th>\n",
       "      <td>0</td>\n",
       "      <td>Eydie Gorme &amp; Los Panchos</td>\n",
       "      <td>US</td>\n",
       "      <td>female</td>\n",
       "      <td>pop</td>\n",
       "    </tr>\n",
       "    <tr>\n",
       "      <th>3</th>\n",
       "      <td>0</td>\n",
       "      <td>Roy Orbison</td>\n",
       "      <td>US</td>\n",
       "      <td>male</td>\n",
       "      <td>pop</td>\n",
       "    </tr>\n",
       "    <tr>\n",
       "      <th>4</th>\n",
       "      <td>0</td>\n",
       "      <td>Héctor Lavoe</td>\n",
       "      <td>PR</td>\n",
       "      <td>male</td>\n",
       "      <td>NaN</td>\n",
       "    </tr>\n",
       "    <tr>\n",
       "      <th>5</th>\n",
       "      <td>0</td>\n",
       "      <td>DJ Afro</td>\n",
       "      <td>NaN</td>\n",
       "      <td>male</td>\n",
       "      <td>NaN</td>\n",
       "    </tr>\n",
       "    <tr>\n",
       "      <th>6</th>\n",
       "      <td>0</td>\n",
       "      <td>Tito Puente</td>\n",
       "      <td>US</td>\n",
       "      <td>male</td>\n",
       "      <td>jazz</td>\n",
       "    </tr>\n",
       "    <tr>\n",
       "      <th>7</th>\n",
       "      <td>0</td>\n",
       "      <td>Johnny Albino Y Su Trío San Juan</td>\n",
       "      <td>AR</td>\n",
       "      <td>male</td>\n",
       "      <td>tango</td>\n",
       "    </tr>\n",
       "    <tr>\n",
       "      <th>8</th>\n",
       "      <td>0</td>\n",
       "      <td>Luis Segura</td>\n",
       "      <td>NaN</td>\n",
       "      <td>NaN</td>\n",
       "      <td>NaN</td>\n",
       "    </tr>\n",
       "    <tr>\n",
       "      <th>9</th>\n",
       "      <td>0</td>\n",
       "      <td>Johnny Albino</td>\n",
       "      <td>NaN</td>\n",
       "      <td>male</td>\n",
       "      <td>NaN</td>\n",
       "    </tr>\n",
       "  </tbody>\n",
       "</table>\n",
       "</div>"
      ],
      "text/plain": [
       "   Unnamed: 0                                 0    1       2      3\n",
       "0           0                   Michael Jackson   US    male    pop\n",
       "1           0                The Isley Brothers   US     NaN   funk\n",
       "2           0         Eydie Gorme & Los Panchos   US  female    pop\n",
       "3           0                       Roy Orbison   US    male    pop\n",
       "4           0                      Héctor Lavoe   PR    male    NaN\n",
       "5           0                           DJ Afro  NaN    male    NaN\n",
       "6           0                       Tito Puente   US    male   jazz\n",
       "7           0  Johnny Albino Y Su Trío San Juan   AR    male  tango\n",
       "8           0                       Luis Segura  NaN     NaN    NaN\n",
       "9           0                     Johnny Albino  NaN    male    NaN"
      ]
     },
     "execution_count": 171,
     "metadata": {},
     "output_type": "execute_result"
    }
   ],
   "source": [
    "pd.read_csv('Data/artistas.csv')"
   ]
  },
  {
   "cell_type": "code",
   "execution_count": 34,
   "metadata": {},
   "outputs": [],
   "source": [
    "dict2 = dict['artist-list'][0]"
   ]
  },
  {
   "cell_type": "code",
   "execution_count": 79,
   "metadata": {},
   "outputs": [
    {
     "data": {
      "text/plain": [
       "(nan, nan, nan)"
      ]
     },
     "execution_count": 79,
     "metadata": {},
     "output_type": "execute_result"
    }
   ],
   "source": [
    "getinfo('Angasdasldñkasdklasd')"
   ]
  },
  {
   "cell_type": "code",
   "execution_count": 64,
   "metadata": {},
   "outputs": [
    {
     "data": {
      "text/plain": [
       "'US'"
      ]
     },
     "execution_count": 64,
     "metadata": {},
     "output_type": "execute_result"
    }
   ],
   "source": [
    "dict2['country']"
   ]
  },
  {
   "cell_type": "code",
   "execution_count": 49,
   "metadata": {},
   "outputs": [],
   "source": [
    "tag = df.from_dict(dict3['tag-list'])\n",
    "tag['count']= tag['count'].astype(int)\n",
    "genre=tag.loc[tag['count'].idxmax()]['name']"
   ]
  },
  {
   "cell_type": "code",
   "execution_count": 53,
   "metadata": {},
   "outputs": [],
   "source": [
    "Artists= df[0].drop_duplicates().reset_index()"
   ]
  },
  {
   "cell_type": "code",
   "execution_count": 52,
   "metadata": {},
   "outputs": [
    {
     "data": {
      "text/plain": [
       "'pop'"
      ]
     },
     "execution_count": 52,
     "metadata": {},
     "output_type": "execute_result"
    }
   ],
   "source": [
    "genre=tag.loc[tag['count'].idxmax()]['name']"
   ]
  },
  {
   "cell_type": "code",
   "execution_count": 67,
   "metadata": {},
   "outputs": [],
   "source": [
    "dict = mb.search_artists('Queen',limit=1)"
   ]
  },
  {
   "cell_type": "code",
   "execution_count": 68,
   "metadata": {},
   "outputs": [
    {
     "data": {
      "text/plain": [
       "{'artist-list': [{'id': '0383dadf-2a4e-4d10-a46a-e9e041da8eb3',\n",
       "   'type': 'Group',\n",
       "   'ext:score': '100',\n",
       "   'name': 'Queen',\n",
       "   'sort-name': 'Queen',\n",
       "   'country': 'GB',\n",
       "   'area': {'id': '8a754a16-0027-3a29-b6d7-2b40ea0481ed',\n",
       "    'type': 'Country',\n",
       "    'name': 'United Kingdom',\n",
       "    'sort-name': 'United Kingdom',\n",
       "    'life-span': {'ended': 'false'}},\n",
       "   'begin-area': {'id': 'f03d09b3-39dc-4083-afd6-159e3f0d462f',\n",
       "    'type': 'City',\n",
       "    'name': 'London',\n",
       "    'sort-name': 'London',\n",
       "    'life-span': {'ended': 'false'}},\n",
       "   'disambiguation': 'UK rock group',\n",
       "   'life-span': {'begin': '1970-06-27', 'ended': 'false'},\n",
       "   'tag-list': [{'count': '16', 'name': 'rock'},\n",
       "    {'count': '0', 'name': 'progressive rock'},\n",
       "    {'count': '-2', 'name': '70s'},\n",
       "    {'count': '-2', 'name': '80s'},\n",
       "    {'count': '-2', 'name': '90s'},\n",
       "    {'count': '-1', 'name': 'pop-rock'},\n",
       "    {'count': '5', 'name': 'british'},\n",
       "    {'count': '0', 'name': 'uk'},\n",
       "    {'count': '0', 'name': 'band'},\n",
       "    {'count': '5', 'name': 'hard rock'},\n",
       "    {'count': '0', 'name': 'britannique'},\n",
       "    {'count': '0', 'name': 'disco'},\n",
       "    {'count': '3', 'name': 'glam rock'},\n",
       "    {'count': '-1', 'name': 'queen family'},\n",
       "    {'count': '4', 'name': 'art rock'},\n",
       "    {'count': '2', 'name': 'pop rock'},\n",
       "    {'count': '0', 'name': 'english'},\n",
       "    {'count': '0', 'name': 'united kingdom'},\n",
       "    {'count': '-1', 'name': 'queen'},\n",
       "    {'count': '1', 'name': 'film soundtrack'},\n",
       "    {'count': '-1', 'name': 'classic pop and rock'},\n",
       "    {'count': '-1', 'name': 'platinum'},\n",
       "    {'count': '-1', 'name': 'pop/rock'},\n",
       "    {'count': '0', 'name': \"80's\"},\n",
       "    {'count': '-1', 'name': \"90's\"},\n",
       "    {'count': '0', 'name': \"70's\"},\n",
       "    {'count': '0', 'name': 'langham 1 studio bbc'},\n",
       "    {'count': '0', 'name': 'kind of magic'},\n",
       "    {'count': '1', 'name': 'sa-town anthem'}]}],\n",
       " 'artist-count': 681}"
      ]
     },
     "execution_count": 68,
     "metadata": {},
     "output_type": "execute_result"
    }
   ],
   "source": [
    "dict"
   ]
  },
  {
   "cell_type": "code",
   "execution_count": null,
   "metadata": {},
   "outputs": [],
   "source": []
  }
 ],
 "metadata": {
  "kernelspec": {
   "display_name": "Python 3",
   "language": "python",
   "name": "python3"
  },
  "language_info": {
   "codemirror_mode": {
    "name": "ipython",
    "version": 3
   },
   "file_extension": ".py",
   "mimetype": "text/x-python",
   "name": "python",
   "nbconvert_exporter": "python",
   "pygments_lexer": "ipython3",
   "version": "3.6.5"
  }
 },
 "nbformat": 4,
 "nbformat_minor": 2
}
